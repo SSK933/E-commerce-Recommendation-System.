{
  "metadata": {
    "kernelspec": {
      "display_name": "Python 3",
      "name": "python3"
    },
    "language_info": {
      "pygments_lexer": "ipython3",
      "nbconvert_exporter": "python",
      "version": "3.6.4",
      "file_extension": ".py",
      "codemirror_mode": {
        "name": "ipython",
        "version": 3
      },
      "name": "python",
      "mimetype": "text/x-python"
    },
    "colab": {
      "provenance": [],
      "machine_shape": "hm",
      "gpuType": "V28"
    },
    "accelerator": "TPU"
  },
  "nbformat_minor": 0,
  "nbformat": 4,
  "cells": [
    {
      "cell_type": "code",
      "source": [
        "# Check if the code is running in a Colab environment\n",
        "if 'google.colab' in str(get_ipython()):  # If the code is running in Colab\n",
        "    # mount google drive\n",
        "    from google.colab import drive\n",
        "    drive.mount('/content/drive')\n",
        "\n",
        "    # set the base path to a Google Drive folder\n",
        "    base_path = '/content/drive/MyDrive/Colab Notebooks'"
      ],
      "metadata": {
        "id": "WVzH7S7W06Qs",
        "outputId": "f289f9af-520f-49d6-9110-a594976e33a8",
        "colab": {
          "base_uri": "https://localhost:8080/"
        }
      },
      "execution_count": 1,
      "outputs": [
        {
          "output_type": "stream",
          "name": "stdout",
          "text": [
            "Drive already mounted at /content/drive; to attempt to forcibly remount, call drive.mount(\"/content/drive\", force_remount=True).\n"
          ]
        }
      ]
    },
    {
      "cell_type": "code",
      "source": [
        "!pip install polars\n",
        "!pip install annoy\n",
        "!pip install torch_geometric\n",
        "!pip install torch"
      ],
      "metadata": {
        "colab": {
          "base_uri": "https://localhost:8080/"
        },
        "collapsed": true,
        "id": "7CNxI__Q6v4X",
        "outputId": "fd542813-5b49-40a1-ef01-31414fb0cd36"
      },
      "execution_count": 16,
      "outputs": [
        {
          "output_type": "stream",
          "name": "stdout",
          "text": [
            "Requirement already satisfied: polars in /usr/local/lib/python3.10/dist-packages (1.6.0)\n",
            "Requirement already satisfied: annoy in /usr/local/lib/python3.10/dist-packages (1.17.3)\n",
            "Requirement already satisfied: torch_geometric in /usr/local/lib/python3.10/dist-packages (2.5.3)\n",
            "Requirement already satisfied: tqdm in /usr/local/lib/python3.10/dist-packages (from torch_geometric) (4.66.5)\n",
            "Requirement already satisfied: numpy in /usr/local/lib/python3.10/dist-packages (from torch_geometric) (1.26.4)\n",
            "Requirement already satisfied: scipy in /usr/local/lib/python3.10/dist-packages (from torch_geometric) (1.13.1)\n",
            "Requirement already satisfied: fsspec in /usr/local/lib/python3.10/dist-packages (from torch_geometric) (2024.6.1)\n",
            "Requirement already satisfied: jinja2 in /usr/local/lib/python3.10/dist-packages (from torch_geometric) (3.1.4)\n",
            "Requirement already satisfied: aiohttp in /usr/local/lib/python3.10/dist-packages (from torch_geometric) (3.10.5)\n",
            "Requirement already satisfied: requests in /usr/local/lib/python3.10/dist-packages (from torch_geometric) (2.32.3)\n",
            "Requirement already satisfied: pyparsing in /usr/local/lib/python3.10/dist-packages (from torch_geometric) (3.1.4)\n",
            "Requirement already satisfied: scikit-learn in /usr/local/lib/python3.10/dist-packages (from torch_geometric) (1.3.2)\n",
            "Requirement already satisfied: psutil>=5.8.0 in /usr/local/lib/python3.10/dist-packages (from torch_geometric) (5.9.5)\n",
            "Requirement already satisfied: aiohappyeyeballs>=2.3.0 in /usr/local/lib/python3.10/dist-packages (from aiohttp->torch_geometric) (2.4.0)\n",
            "Requirement already satisfied: aiosignal>=1.1.2 in /usr/local/lib/python3.10/dist-packages (from aiohttp->torch_geometric) (1.3.1)\n",
            "Requirement already satisfied: attrs>=17.3.0 in /usr/local/lib/python3.10/dist-packages (from aiohttp->torch_geometric) (24.2.0)\n",
            "Requirement already satisfied: frozenlist>=1.1.1 in /usr/local/lib/python3.10/dist-packages (from aiohttp->torch_geometric) (1.4.1)\n",
            "Requirement already satisfied: multidict<7.0,>=4.5 in /usr/local/lib/python3.10/dist-packages (from aiohttp->torch_geometric) (6.0.5)\n",
            "Requirement already satisfied: yarl<2.0,>=1.0 in /usr/local/lib/python3.10/dist-packages (from aiohttp->torch_geometric) (1.9.4)\n",
            "Requirement already satisfied: async-timeout<5.0,>=4.0 in /usr/local/lib/python3.10/dist-packages (from aiohttp->torch_geometric) (4.0.3)\n",
            "Requirement already satisfied: MarkupSafe>=2.0 in /usr/local/lib/python3.10/dist-packages (from jinja2->torch_geometric) (2.1.5)\n",
            "Requirement already satisfied: charset-normalizer<4,>=2 in /usr/local/lib/python3.10/dist-packages (from requests->torch_geometric) (3.3.2)\n",
            "Requirement already satisfied: idna<4,>=2.5 in /usr/local/lib/python3.10/dist-packages (from requests->torch_geometric) (3.8)\n",
            "Requirement already satisfied: urllib3<3,>=1.21.1 in /usr/local/lib/python3.10/dist-packages (from requests->torch_geometric) (2.0.7)\n",
            "Requirement already satisfied: certifi>=2017.4.17 in /usr/local/lib/python3.10/dist-packages (from requests->torch_geometric) (2024.7.4)\n",
            "Requirement already satisfied: joblib>=1.1.1 in /usr/local/lib/python3.10/dist-packages (from scikit-learn->torch_geometric) (1.4.2)\n",
            "Requirement already satisfied: threadpoolctl>=2.0.0 in /usr/local/lib/python3.10/dist-packages (from scikit-learn->torch_geometric) (3.5.0)\n",
            "Requirement already satisfied: torch in /usr/local/lib/python3.10/dist-packages (2.4.0+cpu)\n",
            "Requirement already satisfied: filelock in /usr/local/lib/python3.10/dist-packages (from torch) (3.15.4)\n",
            "Requirement already satisfied: typing-extensions>=4.8.0 in /usr/local/lib/python3.10/dist-packages (from torch) (4.12.2)\n",
            "Requirement already satisfied: sympy in /usr/local/lib/python3.10/dist-packages (from torch) (1.13.2)\n",
            "Requirement already satisfied: networkx in /usr/local/lib/python3.10/dist-packages (from torch) (3.3)\n",
            "Requirement already satisfied: jinja2 in /usr/local/lib/python3.10/dist-packages (from torch) (3.1.4)\n",
            "Requirement already satisfied: fsspec in /usr/local/lib/python3.10/dist-packages (from torch) (2024.6.1)\n",
            "Requirement already satisfied: MarkupSafe>=2.0 in /usr/local/lib/python3.10/dist-packages (from jinja2->torch) (2.1.5)\n",
            "Requirement already satisfied: mpmath<1.4,>=1.1.0 in /usr/local/lib/python3.10/dist-packages (from sympy->torch) (1.3.0)\n"
          ]
        }
      ]
    },
    {
      "cell_type": "code",
      "source": [
        "import polars as pl\n",
        "import torch\n",
        "from torch_geometric.data import Data\n",
        "from annoy import AnnoyIndex\n",
        "import numpy as np\n",
        "from torch_geometric.nn import SAGEConv\n",
        "\n",
        "# Load the dataset\n",
        "train_df = pl.read_parquet('/content/drive/MyDrive/Colab Notebooks/OTTO Recommendation System./train.parquet', low_memory=True)\n",
        "test = pl.read_parquet('/content/drive/MyDrive/Colab Notebooks/OTTO Recommendation System./test.parquet')"
      ],
      "metadata": {
        "id": "O0tdaO-n5eLT"
      },
      "execution_count": 17,
      "outputs": []
    },
    {
      "cell_type": "code",
      "source": [
        "# Create lagged dataframe\n",
        "def lagged_df(df):\n",
        "    df = df.with_columns([\n",
        "        pl.col(\"aid\").shift(1).over(\"session\").alias(\"prev_aid\")\n",
        "    ])\n",
        "    # Drop rows where prev_aid is null (first item in a session)\n",
        "    df = df.drop_nulls(subset=['prev_aid'])\n",
        "    return df\n",
        "\n",
        "train_df = lagged_df(train_df)\n",
        "test= lagged_df(test)"
      ],
      "metadata": {
        "id": "VX8KdNJGTZ03"
      },
      "execution_count": 18,
      "outputs": []
    },
    {
      "cell_type": "code",
      "source": [
        "import polars as pl\n",
        "\n",
        "train_df = train_df.filter(pl.col('type') == 0)\n",
        "train_df"
      ],
      "metadata": {
        "colab": {
          "base_uri": "https://localhost:8080/",
          "height": 443
        },
        "id": "cZG6jcWEThCn",
        "outputId": "0620efe1-be93-4165-af76-9430eb336406"
      },
      "execution_count": 19,
      "outputs": [
        {
          "output_type": "execute_result",
          "data": {
            "text/plain": [
              "shape: (181_876_747, 5)\n",
              "┌──────────┬─────────┬────────────┬──────┬──────────┐\n",
              "│ session  ┆ aid     ┆ ts         ┆ type ┆ prev_aid │\n",
              "│ ---      ┆ ---     ┆ ---        ┆ ---  ┆ ---      │\n",
              "│ i32      ┆ i32     ┆ i32        ┆ u8   ┆ i32      │\n",
              "╞══════════╪═════════╪════════════╪══════╪══════════╡\n",
              "│ 0        ┆ 1563459 ┆ 1659304904 ┆ 0    ┆ 1517085  │\n",
              "│ 0        ┆ 1309446 ┆ 1659367439 ┆ 0    ┆ 1563459  │\n",
              "│ 0        ┆ 16246   ┆ 1659367719 ┆ 0    ┆ 1309446  │\n",
              "│ 0        ┆ 1781822 ┆ 1659367871 ┆ 0    ┆ 16246    │\n",
              "│ 0        ┆ 1152674 ┆ 1659367885 ┆ 0    ┆ 1781822  │\n",
              "│ …        ┆ …       ┆ …          ┆ …    ┆ …        │\n",
              "│ 12899774 ┆ 1399483 ┆ 1661723976 ┆ 0    ┆ 33035    │\n",
              "│ 12899775 ┆ 1760714 ┆ 1661723990 ┆ 0    ┆ 1743151  │\n",
              "│ 12899776 ┆ 1737908 ┆ 1661723987 ┆ 0    ┆ 548599   │\n",
              "│ 12899777 ┆ 384045  ┆ 1661723986 ┆ 0    ┆ 384045   │\n",
              "│ 12899778 ┆ 32070   ┆ 1661723994 ┆ 0    ┆ 561560   │\n",
              "└──────────┴─────────┴────────────┴──────┴──────────┘"
            ],
            "text/html": [
              "<div><style>\n",
              ".dataframe > thead > tr,\n",
              ".dataframe > tbody > tr {\n",
              "  text-align: right;\n",
              "  white-space: pre-wrap;\n",
              "}\n",
              "</style>\n",
              "<small>shape: (181_876_747, 5)</small><table border=\"1\" class=\"dataframe\"><thead><tr><th>session</th><th>aid</th><th>ts</th><th>type</th><th>prev_aid</th></tr><tr><td>i32</td><td>i32</td><td>i32</td><td>u8</td><td>i32</td></tr></thead><tbody><tr><td>0</td><td>1563459</td><td>1659304904</td><td>0</td><td>1517085</td></tr><tr><td>0</td><td>1309446</td><td>1659367439</td><td>0</td><td>1563459</td></tr><tr><td>0</td><td>16246</td><td>1659367719</td><td>0</td><td>1309446</td></tr><tr><td>0</td><td>1781822</td><td>1659367871</td><td>0</td><td>16246</td></tr><tr><td>0</td><td>1152674</td><td>1659367885</td><td>0</td><td>1781822</td></tr><tr><td>&hellip;</td><td>&hellip;</td><td>&hellip;</td><td>&hellip;</td><td>&hellip;</td></tr><tr><td>12899774</td><td>1399483</td><td>1661723976</td><td>0</td><td>33035</td></tr><tr><td>12899775</td><td>1760714</td><td>1661723990</td><td>0</td><td>1743151</td></tr><tr><td>12899776</td><td>1737908</td><td>1661723987</td><td>0</td><td>548599</td></tr><tr><td>12899777</td><td>384045</td><td>1661723986</td><td>0</td><td>384045</td></tr><tr><td>12899778</td><td>32070</td><td>1661723994</td><td>0</td><td>561560</td></tr></tbody></table></div>"
            ]
          },
          "metadata": {},
          "execution_count": 19
        }
      ]
    },
    {
      "cell_type": "code",
      "source": [
        "test = test.filter(pl.col('type') == 0)\n",
        "test"
      ],
      "metadata": {
        "colab": {
          "base_uri": "https://localhost:8080/",
          "height": 443
        },
        "id": "6epkQXY9TpzO",
        "outputId": "e988c351-9027-4fad-c7e5-335e921a09b6"
      },
      "execution_count": 20,
      "outputs": [
        {
          "output_type": "execute_result",
          "data": {
            "text/plain": [
              "shape: (4_627_313, 5)\n",
              "┌──────────┬─────────┬────────────┬──────┬──────────┐\n",
              "│ session  ┆ aid     ┆ ts         ┆ type ┆ prev_aid │\n",
              "│ ---      ┆ ---     ┆ ---        ┆ ---  ┆ ---      │\n",
              "│ i32      ┆ i32     ┆ i32        ┆ u8   ┆ i32      │\n",
              "╞══════════╪═════════╪════════════╪══════╪══════════╡\n",
              "│ 12899780 ┆ 582732  ┆ 1661724058 ┆ 0    ┆ 1142000  │\n",
              "│ 12899780 ┆ 973453  ┆ 1661724109 ┆ 0    ┆ 582732   │\n",
              "│ 12899780 ┆ 736515  ┆ 1661724136 ┆ 0    ┆ 973453   │\n",
              "│ 12899780 ┆ 1142000 ┆ 1661724155 ┆ 0    ┆ 736515   │\n",
              "│ 12899781 ┆ 199008  ┆ 1661724022 ┆ 0    ┆ 141736   │\n",
              "│ …        ┆ …       ┆ …          ┆ …    ┆ …        │\n",
              "│ 14571533 ┆ 893173  ┆ 1662328754 ┆ 0    ┆ 229094   │\n",
              "│ 14571534 ┆ 1152891 ┆ 1662328727 ┆ 0    ┆ 272221   │\n",
              "│ 14571539 ┆ 317311  ┆ 1662328765 ┆ 0    ┆ 317311   │\n",
              "│ 14571547 ┆ 1117925 ┆ 1662328764 ┆ 0    ┆ 1546409  │\n",
              "│ 14571548 ┆ 1798580 ┆ 1662328744 ┆ 0    ┆ 1453906  │\n",
              "└──────────┴─────────┴────────────┴──────┴──────────┘"
            ],
            "text/html": [
              "<div><style>\n",
              ".dataframe > thead > tr,\n",
              ".dataframe > tbody > tr {\n",
              "  text-align: right;\n",
              "  white-space: pre-wrap;\n",
              "}\n",
              "</style>\n",
              "<small>shape: (4_627_313, 5)</small><table border=\"1\" class=\"dataframe\"><thead><tr><th>session</th><th>aid</th><th>ts</th><th>type</th><th>prev_aid</th></tr><tr><td>i32</td><td>i32</td><td>i32</td><td>u8</td><td>i32</td></tr></thead><tbody><tr><td>12899780</td><td>582732</td><td>1661724058</td><td>0</td><td>1142000</td></tr><tr><td>12899780</td><td>973453</td><td>1661724109</td><td>0</td><td>582732</td></tr><tr><td>12899780</td><td>736515</td><td>1661724136</td><td>0</td><td>973453</td></tr><tr><td>12899780</td><td>1142000</td><td>1661724155</td><td>0</td><td>736515</td></tr><tr><td>12899781</td><td>199008</td><td>1661724022</td><td>0</td><td>141736</td></tr><tr><td>&hellip;</td><td>&hellip;</td><td>&hellip;</td><td>&hellip;</td><td>&hellip;</td></tr><tr><td>14571533</td><td>893173</td><td>1662328754</td><td>0</td><td>229094</td></tr><tr><td>14571534</td><td>1152891</td><td>1662328727</td><td>0</td><td>272221</td></tr><tr><td>14571539</td><td>317311</td><td>1662328765</td><td>0</td><td>317311</td></tr><tr><td>14571547</td><td>1117925</td><td>1662328764</td><td>0</td><td>1546409</td></tr><tr><td>14571548</td><td>1798580</td><td>1662328744</td><td>0</td><td>1453906</td></tr></tbody></table></div>"
            ]
          },
          "metadata": {},
          "execution_count": 20
        }
      ]
    },
    {
      "cell_type": "code",
      "source": [
        "# Convert to PyTorch Geometric format\n",
        "unique_aids = pl.concat([train_df['aid'], train_df['prev_aid']]).unique().to_list()\n",
        "aid_to_idx = {aid: idx for idx, aid in enumerate(unique_aids)}\n",
        "idx_to_aid = {idx: aid for aid, idx in aid_to_idx.items()}  # Make sure this is defined before usage"
      ],
      "metadata": {
        "id": "OwccuH_g-Okt"
      },
      "execution_count": 21,
      "outputs": []
    },
    {
      "cell_type": "code",
      "source": [
        "# Get the number of unique elements in unique_aids\n",
        "num_unique_aids = len(unique_aids)\n",
        "\n",
        "# Print the number of unique elements\n",
        "print(f\"Number of unique article IDs: {num_unique_aids}\")"
      ],
      "metadata": {
        "colab": {
          "base_uri": "https://localhost:8080/"
        },
        "id": "ZDKI2wsdq4KP",
        "outputId": "ac272e7e-246e-437c-9b83-d029406fca96"
      },
      "execution_count": 22,
      "outputs": [
        {
          "output_type": "stream",
          "name": "stdout",
          "text": [
            "Number of unique article IDs: 1855603\n"
          ]
        }
      ]
    },
    {
      "cell_type": "code",
      "source": [
        "import polars as pl\n",
        "import torch\n",
        "import torch.nn as nn\n",
        "from torch_geometric.data import Data\n",
        "from torch_geometric.nn import SAGEConv\n",
        "from annoy import AnnoyIndex\n",
        "\n",
        "# Apply mapping using the apply method on DataFrame columns directly\n",
        "train_df = train_df.with_columns([\n",
        "    pl.col('aid').replace(aid_to_idx, default= -1).alias('aid_idx'),\n",
        "    pl.col('prev_aid').replace(aid_to_idx, default= -1).alias('prev_aid_idx')\n",
        "])\n",
        "\n",
        "# Remove rows where either 'aid_idx' or 'prev_aid_idx' couldn't be mapped (optional)\n",
        "train_df = train_df.filter(\n",
        "    (pl.col('aid_idx') != -1) & (pl.col('prev_aid_idx') != -1)\n",
        ")\n",
        "\n",
        "# Prepare edge index\n",
        "edge_index = torch.tensor(train_df[['prev_aid_idx', 'aid_idx']].to_numpy().T, dtype=torch.long)\n",
        "\n",
        "# Define an embedding layer for the nodes\n",
        "embedding_dim = 32  # Set the dimension of the embedding vectors\n",
        "embedding_layer = nn.Embedding(num_embeddings=len(unique_aids), embedding_dim=embedding_dim)\n",
        "\n",
        "# Initialize node embeddings\n",
        "node_embeddings = embedding_layer.weight  # Initial embeddings for each node\n",
        "\n",
        "# Create the graph data object\n",
        "data = Data(x=node_embeddings, edge_index=edge_index)"
      ],
      "metadata": {
        "colab": {
          "base_uri": "https://localhost:8080/"
        },
        "id": "eFHyi47mClR4",
        "outputId": "694e1a51-1470-4f59-9781-1720d9fd148a"
      },
      "execution_count": 23,
      "outputs": [
        {
          "output_type": "stream",
          "name": "stderr",
          "text": [
            "<ipython-input-23-bd8f20027949>:10: DeprecationWarning: The `default` parameter for `replace` is deprecated. Use `replace_strict` instead to set a default while replacing values.\n",
            "  pl.col('aid').replace(aid_to_idx, default= -1).alias('aid_idx'),\n",
            "<ipython-input-23-bd8f20027949>:11: DeprecationWarning: The `default` parameter for `replace` is deprecated. Use `replace_strict` instead to set a default while replacing values.\n",
            "  pl.col('prev_aid').replace(aid_to_idx, default= -1).alias('prev_aid_idx')\n"
          ]
        }
      ]
    },
    {
      "cell_type": "code",
      "source": [
        "import torch.nn.functional as F\n",
        "import matplotlib.pyplot as plt\n",
        "from tqdm import tqdm\n",
        "\n",
        "# Implement GraphSAGE model\n",
        "class GraphSAGE(torch.nn.Module):\n",
        "    def __init__(self, in_channels, hidden_channels, out_channels):\n",
        "        super(GraphSAGE, self).__init__()\n",
        "        self.conv1 = SAGEConv(in_channels, hidden_channels)\n",
        "        self.conv2 = SAGEConv(hidden_channels, out_channels)\n",
        "\n",
        "    def forward(self, x, edge_index):\n",
        "        x = self.conv1(x, edge_index)\n",
        "        x = torch.relu(x)\n",
        "        x = self.conv2(x, edge_index)\n",
        "        return x\n",
        "\n",
        "# Initialize the GraphSAGE model\n",
        "model = GraphSAGE(in_channels=embedding_dim, hidden_channels=64, out_channels=embedding_dim)\n",
        "\n",
        "# Example training loop with margin-based contrastive loss\n",
        "optimizer = torch.optim.Adam(model.parameters(), lr=0.01)\n",
        "num_epochs = 5  # Number of epochs\n",
        "margin = 1.0  # Margin for contrastive loss\n",
        "losses = []  # To store the loss values\n",
        "\n",
        "# Training loop with progress bar\n",
        "for epoch in tqdm(range(num_epochs), desc=\"Training Epochs\"):\n",
        "    model.train()\n",
        "    optimizer.zero_grad()\n",
        "\n",
        "    # Forward pass: Get the embeddings from the model\n",
        "    out = model(data.x, data.edge_index)\n",
        "\n",
        "    # Assume that we have positive and negative pairs for contrastive learning\n",
        "    anchor = out[edge_index[0]]  # Embedding of the current item\n",
        "    positive = out[edge_index[1]]  # Embedding of the next item in sequence\n",
        "    negative = out[torch.randint(0, len(unique_aids), (len(edge_index[1]),))]  # Random negative samples\n",
        "\n",
        "    # Calculate distances for contrastive loss\n",
        "    positive_distance = F.pairwise_distance(anchor, positive)\n",
        "    negative_distance = F.pairwise_distance(anchor, negative)\n",
        "\n",
        "    # Margin-based contrastive loss\n",
        "    loss = torch.mean(positive_distance + torch.relu(margin - negative_distance))\n",
        "\n",
        "    # Backward pass and optimization\n",
        "    loss.backward()\n",
        "    optimizer.step()\n",
        "\n",
        "    # Store the loss value\n",
        "    losses.append(loss.item())\n",
        "\n",
        "    # Print the loss for this epoch\n",
        "    print(f\"Epoch {epoch + 1}/{num_epochs}, Loss: {loss.item()}\")\n",
        "\n",
        "# Plot the loss vs epoch graph after training is complete\n",
        "plt.figure(figsize=(10, 5))\n",
        "plt.plot(range(1, num_epochs + 1), losses, marker='o')\n",
        "plt.title('Loss vs. Epoch')\n",
        "plt.xlabel('Epoch')\n",
        "plt.ylabel('Loss')\n",
        "plt.grid(True)\n",
        "plt.show()\n",
        "\n",
        "# Get final embeddings\n",
        "with torch.no_grad():\n",
        "    embeddings = model(data.x, data.edge_index)"
      ],
      "metadata": {
        "colab": {
          "base_uri": "https://localhost:8080/",
          "height": 591
        },
        "id": "wyfipIHuGd2c",
        "outputId": "ee3a02cb-636b-4d7e-f621-68d340c3382c"
      },
      "execution_count": 24,
      "outputs": [
        {
          "output_type": "stream",
          "name": "stderr",
          "text": [
            "Training Epochs:  20%|██        | 1/5 [01:30<06:01, 90.35s/it]"
          ]
        },
        {
          "output_type": "stream",
          "name": "stdout",
          "text": [
            "Epoch 1/5, Loss: 1.389121651649475\n"
          ]
        },
        {
          "output_type": "stream",
          "name": "stderr",
          "text": [
            "\rTraining Epochs:  40%|████      | 2/5 [03:00<04:30, 90.06s/it]"
          ]
        },
        {
          "output_type": "stream",
          "name": "stdout",
          "text": [
            "Epoch 2/5, Loss: 1.0384143590927124\n"
          ]
        },
        {
          "output_type": "stream",
          "name": "stderr",
          "text": [
            "\rTraining Epochs:  60%|██████    | 3/5 [04:30<03:00, 90.31s/it]"
          ]
        },
        {
          "output_type": "stream",
          "name": "stdout",
          "text": [
            "Epoch 3/5, Loss: 0.8653636574745178\n"
          ]
        },
        {
          "output_type": "stream",
          "name": "stderr",
          "text": [
            "\rTraining Epochs:  80%|████████  | 4/5 [06:01<01:30, 90.39s/it]"
          ]
        },
        {
          "output_type": "stream",
          "name": "stdout",
          "text": [
            "Epoch 4/5, Loss: 0.8376088738441467\n"
          ]
        },
        {
          "output_type": "stream",
          "name": "stderr",
          "text": [
            "Training Epochs: 100%|██████████| 5/5 [07:31<00:00, 90.38s/it]"
          ]
        },
        {
          "output_type": "stream",
          "name": "stdout",
          "text": [
            "Epoch 5/5, Loss: 0.8238649964332581\n"
          ]
        },
        {
          "output_type": "stream",
          "name": "stderr",
          "text": [
            "\n"
          ]
        },
        {
          "output_type": "display_data",
          "data": {
            "text/plain": [
              "<Figure size 1000x500 with 1 Axes>"
            ],
            "image/png": "[encoded data removed]"
          },
          "metadata": {}
        }
      ]
    },
    {
      "cell_type": "code",
      "source": [
        "%%time\n",
        "\n",
        "# Build Annoy index with learned embeddings\n",
        "annoy_index = AnnoyIndex(embedding_dim, 'angular')\n",
        "\n",
        "# Add embeddings to the Annoy index\n",
        "for i in range(len(unique_aids)):\n",
        "    annoy_index.add_item(i, embeddings[i].numpy())\n",
        "\n",
        "# Build the index with n_trees (more trees increase accuracy)\n",
        "annoy_index.build(n_trees=5)\n",
        "annoy_index.save('/content/drive/MyDrive/Colab Notebooks/OTTO Recommendation System./annoy_index.ann')"
      ],
      "metadata": {
        "colab": {
          "base_uri": "https://localhost:8080/"
        },
        "id": "3gNaZ00y97Ue",
        "outputId": "75220ab9-1340-48d7-b60a-7f942ff5602d"
      },
      "execution_count": 25,
      "outputs": [
        {
          "output_type": "stream",
          "name": "stdout",
          "text": [
            "CPU times: user 36.3 s, sys: 1.07 s, total: 37.3 s\n",
            "Wall time: 20.1 s\n"
          ]
        },
        {
          "output_type": "execute_result",
          "data": {
            "text/plain": [
              "True"
            ]
          },
          "metadata": {},
          "execution_count": 25
        }
      ]
    },
    {
      "cell_type": "markdown",
      "source": [
        "## Validation / Inference"
      ],
      "metadata": {
        "id": "T2QuzGxhzj0W"
      }
    },
    {
      "cell_type": "code",
      "source": [
        "from tqdm import tqdm\n",
        "\n",
        "# Initialize a counter for the number of hits\n",
        "hits = 0\n",
        "\n",
        "# Total number of predictions\n",
        "total_predictions = len(test)\n",
        "\n",
        "# Iterate over each row in the test dataframe with a tqdm progress bar\n",
        "for row in tqdm(test.iter_rows(named=True), total=total_predictions, desc=\"Processing\"):\n",
        "    prev_aid = row['prev_aid']\n",
        "    true_aid = row['aid']\n",
        "\n",
        "    # Convert prev_aid to its corresponding index\n",
        "    if prev_aid in aid_to_idx:\n",
        "        prev_aid_idx = aid_to_idx[prev_aid]\n",
        "\n",
        "        # Predict the top 10 most likely items using the Annoy index\n",
        "        top_10_similar = annoy_index.get_nns_by_item(prev_aid_idx, 10)\n",
        "\n",
        "        # Convert indices back to article IDs\n",
        "        recommended_aids = [idx_to_aid[idx] for idx in top_10_similar]\n",
        "\n",
        "        # Check if the true aid (current article ID) is in the recommended items\n",
        "        if true_aid in recommended_aids:\n",
        "            hits += 1\n",
        "\n",
        "# Calculate Hit Rate\n",
        "hit_rate = hits / total_predictions\n",
        "\n",
        "# Print the Hit Rate\n",
        "print(f\"/n Hit Rate: {hit_rate * 100:.2f}%\")\n"
      ],
      "metadata": {
        "colab": {
          "base_uri": "https://localhost:8080/"
        },
        "id": "uU2oy-GXpHUH",
        "outputId": "0687aa05-434a-4438-98bb-58b97d977b1f"
      },
      "execution_count": 26,
      "outputs": [
        {
          "output_type": "stream",
          "name": "stderr",
          "text": [
            "Processing: 100%|██████████| 4627313/4627313 [01:56<00:00, 39557.04it/s]"
          ]
        },
        {
          "output_type": "stream",
          "name": "stdout",
          "text": [
            "/n Hit Rate: 12.68%\n"
          ]
        },
        {
          "output_type": "stream",
          "name": "stderr",
          "text": [
            "\n"
          ]
        }
      ]
    },
    {
      "cell_type": "code",
      "source": [
        "from google.colab import runtime\n",
        "runtime.unassign()"
      ],
      "metadata": {
        "id": "CsOCUEZLZS-O"
      },
      "execution_count": 27,
      "outputs": []
    }
  ]
}